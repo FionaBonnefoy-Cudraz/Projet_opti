{
 "cells": [
  {
   "cell_type": "markdown",
   "id": "33724689-f81c-4b93-8b25-ca6506f057f4",
   "metadata": {},
   "source": [
    "# Question 1"
   ]
  },
  {
   "cell_type": "markdown",
   "id": "8d3e92f1-6236-4e2c-8585-632193cb0032",
   "metadata": {},
   "source": [
    "On raisonne de manière infinitésimale en notant $Q_j(t)$ la charge du véhicule $j$ au temps $t$. Lorsque le véhicule est en charge, la station fournit au véhicule $j$ une puissance $P_j(t)$, et la voiture est capable de capter une certaine fraction $\\beta_j$ de cette puissance ($\\beta_j$ sera proche de 1 pour une batterie neuve, et tendra vers 0 quand la batterie s'use). Ainsi, la dérivée de la charge du véhicule (en terme de dimension, $Q_j$ sera une énergie) vaut $\\frac{dQ_j(t)}{dt} = \\beta_j P_j(t)$.\n",
    "\n",
    "Si partitionne notre intervalle de temps en N intervalles $[t_i, t{i+1}]$ de durée $\\Delta t$ (qui est donc la plus petite durée considérée), cette équation s'approxime par $\\frac{Q_j(t + \\Delta t) - Q_j(t)}{\\Delta t} = \\beta_j P_j(t)$ ou encore $\\frac{Q_{j, i+1} - Q_{j, i}}{\\Delta t} = \\beta_j P_{j,i}$ i.e :\n",
    "$$\n",
    "Q_{j, i+1} =  Q_{j, i} + \\Delta t \\beta_j P_{j,i}\n",
    "$$"
   ]
  },
  {
   "cell_type": "markdown",
   "id": "636d9337-ad15-4bc1-aabc-f1a28531d7a8",
   "metadata": {},
   "source": []
  }
 ],
 "metadata": {
  "kernelspec": {
   "display_name": "Python 3 (ipykernel)",
   "language": "python",
   "name": "python3"
  },
  "language_info": {
   "codemirror_mode": {
    "name": "ipython",
    "version": 3
   },
   "file_extension": ".py",
   "mimetype": "text/x-python",
   "name": "python",
   "nbconvert_exporter": "python",
   "pygments_lexer": "ipython3",
   "version": "3.11.5"
  }
 },
 "nbformat": 4,
 "nbformat_minor": 5
}
