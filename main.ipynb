{
 "cells": [
  {
   "cell_type": "markdown",
   "id": "33724689-f81c-4b93-8b25-ca6506f057f4",
   "metadata": {},
   "source": [
    "# Question 1"
   ]
  },
  {
   "cell_type": "markdown",
   "id": "8d3e92f1-6236-4e2c-8585-632193cb0032",
   "metadata": {},
   "source": [
    "On raisonne de manière infinitésimale en notant $Q_j(t)$ la charge du véhicule $j$ au temps $t$. Lorsque le véhicule est en charge, la station fournit au véhicule $j$ une puissance $P_j(t)$, et la voiture est capable de capter une certaine fraction $\\beta_j$ de cette puissance ($\\beta_j$ sera proche de 1 pour une batterie neuve, et tendra vers 0 quand la batterie s'use). Ainsi, la dérivée de la charge du véhicule (en terme de dimension, $Q_j$ sera une énergie) vaut $\\frac{dQ_j(t)}{dt} = \\beta_j P_j(t)$.\n",
    "\n",
    "Si partitionne notre intervalle de temps en N intervalles $[t_i, t_{i+1}]$ de durée $\\Delta t$ (qui est donc la plus petite durée considérée), cette équation s'approxime par $\\frac{Q_j(t + \\Delta t) - Q_j(t)}{\\Delta t} = \\beta_j P_j(t)$ ou encore $\\frac{Q_{j, i+1} - Q_{j, i}}{\\Delta t} = \\beta_j P_{j,i}$ i.e :\n",
    "$$\n",
    "Q_{j, i+1} =  Q_{j, i} + \\Delta t \\beta_j P_{j,i}\n",
    "$$"
   ]
  },
  {
   "cell_type": "markdown",
   "id": "636d9337-ad15-4bc1-aabc-f1a28531d7a8",
   "metadata": {},
   "source": [
    "# Question 2 "
   ]
  },
  {
   "cell_type": "markdown",
   "id": "72c8b120-0df1-47b3-b837-f1aa3f12fe74",
   "metadata": {},
   "source": [
    "Le problème énoncé correspond au problème d'optimisation suivant : \n",
    "$\\min\\limits_{x} f(x)$ tel que $c_{eq}(x) = 0$ et $c_{in}(x) \\leq 0$  "
   ]
  },
  {
   "cell_type": "markdown",
   "id": "b30fa8ff-ce33-4bca-b8f6-aab5b5bf6349",
   "metadata": {},
   "source": [
    "f est la fonction qui, à x, associe le coût électrique de charge, qu'on cherche à minimiser ; autrement dit :\n",
    "$$\n",
    "f : x = (Q_{j,i}, P_{j,i})_{0 \\leq i < N ; 1 \\leq j \\leq N_{\\nu}} \\longmapsto {\\Delta t}\\sum_{j=1}^{N_v}\\sum_{i=0}^{N}c_iP_{j,i}.\n",
    "$$"
   ]
  },
  {
   "cell_type": "markdown",
   "id": "47c4319a-8aa7-48cd-9aae-3342a887395a",
   "metadata": {},
   "source": [
    "Les contraintes d'égalité sont les suivantes :\n",
    "\n",
    "$$\n",
    "c_{eq} : x \\mapsto \\begin{pmatrix}\n",
    "Q_{j,i+1} - Q_{j,i} - {\\Delta t}\\beta_jP_{j,i} \\\\\n",
    "Q_{j,\\frac{t_j^{in}}{\\Delta t}} - Q_j^in \\\\\n",
    "Q_{j,\\frac{t_j^f}{\\Delta t}} - \\bar{Q_j}\\\\\n",
    "\\end{pmatrix}\n",
    "$$\n",
    "\n"
   ]
  },
  {
   "cell_type": "markdown",
   "id": "6f9a9172",
   "metadata": {},
   "source": [
    "Les contraintes d'inégalités sont les suivantes :\n",
    "\n",
    "\n",
    "$$\n",
    "c_{in} : x \\mapsto \\begin{pmatrix}\n",
    "\\bar{P} - \\sum^{N_\\nu}_{j=1}P_{j,i} \\\\\n",
    "Q_{j,i} \\\\\n",
    "\\bar{Q_j} - Q_{j,i}\\\\\n",
    "\\end{pmatrix}\n",
    "$$\n",
    "\n"
   ]
  },
  {
   "cell_type": "markdown",
   "id": "3c11a2d3-19e0-4cad-b853-c19c0c70b2e8",
   "metadata": {},
   "source": [
    "# Question 3"
   ]
  },
  {
   "cell_type": "markdown",
   "id": "472d0d05-99dd-4bb2-a336-76f8810d751a",
   "metadata": {},
   "source": [
    "Un problème est convexe à deux conditions :\n",
    "- la fonction à minimiser doit être convexe\n",
    "- l'espace des valeurs vérifiant l'ensemble des contraintes doit être convexe.\n",
    "\n",
    "Dans ce problème, les deux conditions sont vérifiées. En effet, d'une part la fonction f est convexe comme fonction linéaire. D'autre part, les contraintes d'égalité et d'inégalité vérifiées sont affines, donc l'ensemble des valeurs les vérifiant est convexe comme intersection de convexes.\n",
    "\n",
    "On a donc bien un problème convexe."
   ]
  },
  {
   "cell_type": "markdown",
   "id": "b5902a9c-18ff-45fd-b554-ef9824e6dd17",
   "metadata": {},
   "source": [
    "# Question 4"
   ]
  },
  {
   "cell_type": "markdown",
   "id": "35bb5686-7e40-4824-a70c-a6d04103e888",
   "metadata": {},
   "source": [
    "On a $\\frac{dQ}{dt} = \\beta P$ où $P = UI$ et $SOC = \\frac{Q}{\\bar{Q}}$ donc $\\bar{Q}\\frac{dSOC}{dt} = \\beta UI$. Il s'agit de trouver le meilleur $\\beta$ pour avoir $(\\frac{dSOC}{dt})_j \\approx \\beta \\frac{UI_j}{\\bar{Q}}$. Dans la pratique il va falloir résoudre $\\min\\limits_{\\beta} \\sum_{j}|(\\frac{dSOC}{dt})_j - \\beta \\frac{UI_j}{\\bar{Q}}|^2$."
   ]
  },
  {
   "cell_type": "markdown",
   "id": "c660ae44-b03b-4187-8429-ddd19e6f3190",
   "metadata": {},
   "source": [
    "# Question 5"
   ]
  },
  {
   "cell_type": "code",
   "execution_count": 3,
   "id": "fec0ebe5-0423-4777-bd3d-2673dedef358",
   "metadata": {},
   "outputs": [
    {
     "data": {
      "text/html": [
       "<div>\n",
       "<style scoped>\n",
       "    .dataframe tbody tr th:only-of-type {\n",
       "        vertical-align: middle;\n",
       "    }\n",
       "\n",
       "    .dataframe tbody tr th {\n",
       "        vertical-align: top;\n",
       "    }\n",
       "\n",
       "    .dataframe thead th {\n",
       "        text-align: right;\n",
       "    }\n",
       "</style>\n",
       "<table border=\"1\" class=\"dataframe\">\n",
       "  <thead>\n",
       "    <tr style=\"text-align: right;\">\n",
       "      <th></th>\n",
       "      <th>Time [s]</th>\n",
       "      <th>SOC [%]</th>\n",
       "      <th>I [kA]</th>\n",
       "    </tr>\n",
       "  </thead>\n",
       "  <tbody>\n",
       "    <tr>\n",
       "      <th>0</th>\n",
       "      <td>0.000000</td>\n",
       "      <td>0.631635</td>\n",
       "      <td>0.000153</td>\n",
       "    </tr>\n",
       "    <tr>\n",
       "      <th>1</th>\n",
       "      <td>1.005016</td>\n",
       "      <td>0.631646</td>\n",
       "      <td>0.000951</td>\n",
       "    </tr>\n",
       "    <tr>\n",
       "      <th>2</th>\n",
       "      <td>2.008215</td>\n",
       "      <td>0.630583</td>\n",
       "      <td>-0.002994</td>\n",
       "    </tr>\n",
       "    <tr>\n",
       "      <th>3</th>\n",
       "      <td>3.018137</td>\n",
       "      <td>0.630439</td>\n",
       "      <td>0.000654</td>\n",
       "    </tr>\n",
       "    <tr>\n",
       "      <th>4</th>\n",
       "      <td>4.023168</td>\n",
       "      <td>0.632332</td>\n",
       "      <td>0.002940</td>\n",
       "    </tr>\n",
       "    <tr>\n",
       "      <th>...</th>\n",
       "      <td>...</td>\n",
       "      <td>...</td>\n",
       "      <td>...</td>\n",
       "    </tr>\n",
       "    <tr>\n",
       "      <th>294</th>\n",
       "      <td>295.401837</td>\n",
       "      <td>0.262350</td>\n",
       "      <td>-0.482445</td>\n",
       "    </tr>\n",
       "    <tr>\n",
       "      <th>295</th>\n",
       "      <td>296.407886</td>\n",
       "      <td>0.259741</td>\n",
       "      <td>-0.482207</td>\n",
       "    </tr>\n",
       "    <tr>\n",
       "      <th>296</th>\n",
       "      <td>297.413096</td>\n",
       "      <td>0.258567</td>\n",
       "      <td>-0.484523</td>\n",
       "    </tr>\n",
       "    <tr>\n",
       "      <th>297</th>\n",
       "      <td>298.418893</td>\n",
       "      <td>0.258645</td>\n",
       "      <td>-0.480281</td>\n",
       "    </tr>\n",
       "    <tr>\n",
       "      <th>298</th>\n",
       "      <td>299.425892</td>\n",
       "      <td>0.255190</td>\n",
       "      <td>-0.477461</td>\n",
       "    </tr>\n",
       "  </tbody>\n",
       "</table>\n",
       "<p>299 rows × 3 columns</p>\n",
       "</div>"
      ],
      "text/plain": [
       "       Time [s]   SOC [%]    I [kA]\n",
       "0      0.000000  0.631635  0.000153\n",
       "1      1.005016  0.631646  0.000951\n",
       "2      2.008215  0.630583 -0.002994\n",
       "3      3.018137  0.630439  0.000654\n",
       "4      4.023168  0.632332  0.002940\n",
       "..          ...       ...       ...\n",
       "294  295.401837  0.262350 -0.482445\n",
       "295  296.407886  0.259741 -0.482207\n",
       "296  297.413096  0.258567 -0.484523\n",
       "297  298.418893  0.258645 -0.480281\n",
       "298  299.425892  0.255190 -0.477461\n",
       "\n",
       "[299 rows x 3 columns]"
      ]
     },
     "execution_count": 3,
     "metadata": {},
     "output_type": "execute_result"
    }
   ],
   "source": [
    "import pandas as pd\n",
    "import numpy as np\n",
    "\n",
    "df = pd.read_csv(\"data_battery.csv\")\n",
    "df"
   ]
  },
  {
   "cell_type": "code",
   "execution_count": 4,
   "id": "acdcc427-f20c-4fb8-8aa2-bf40094ecfa8",
   "metadata": {},
   "outputs": [],
   "source": [
    "Q_bar = 50 * 60 * 60 # 50 Ah\n",
    "U = 230 # 230 V\n",
    "\n",
    "temps = df['Time [s]'].to_numpy()\n",
    "soc = df['SOC [%]'].to_numpy()\n",
    "\n",
    "def derivee(temps, valeurs):\n",
    "    # Calculer les différences entre les valeurs adjacentes\n",
    "    delta_temps = np.diff(temps)\n",
    "    delta_valeurs = np.diff(valeurs)\n",
    "    return delta_valeurs / delta_temps\n",
    "\n",
    "dsoc_dt = derivee(temps, soc)"
   ]
  },
  {
   "cell_type": "code",
   "execution_count": null,
   "id": "c32526b9-74cd-4d36-9887-82886e89a33d",
   "metadata": {},
   "outputs": [],
   "source": []
  }
 ],
 "metadata": {
  "kernelspec": {
   "display_name": "Python 3 (ipykernel)",
   "language": "python",
   "name": "python3"
  },
  "language_info": {
   "codemirror_mode": {
    "name": "ipython",
    "version": 3
   },
   "file_extension": ".py",
   "mimetype": "text/x-python",
   "name": "python",
   "nbconvert_exporter": "python",
   "pygments_lexer": "ipython3",
   "version": "3.11.5"
  }
 },
 "nbformat": 4,
 "nbformat_minor": 5
}
