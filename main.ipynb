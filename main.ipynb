{
 "cells": [
  {
   "cell_type": "markdown",
   "id": "33724689-f81c-4b93-8b25-ca6506f057f4",
   "metadata": {},
   "source": [
    "# Question 1"
   ]
  },
  {
   "cell_type": "markdown",
   "id": "8d3e92f1-6236-4e2c-8585-632193cb0032",
   "metadata": {},
   "source": [
    "On raisonne de manière infinitésimale en notant $Q_j(t)$ la charge du véhicule $j$ au temps $t$. Lorsque le véhicule est en charge, la station fournit au véhicule $j$ une puissance $P_j(t)$, et la voiture est capable de capter une certaine fraction $\\beta_j$ de cette puissance ($\\beta_j$ sera proche de 1 pour une batterie neuve, et tendra vers 0 quand la batterie s'use). Ainsi, la dérivée de la charge du véhicule (en terme de dimension, $Q_j$ sera une énergie) vaut $\\frac{dQ_j(t)}{dt} = \\beta_j P_j(t)$.\n",
    "\n",
    "Si partitionne notre intervalle de temps en N intervalles $[t_i, t{i+1}]$ de durée $\\Delta t$ (qui est donc la plus petite durée considérée), cette équation s'approxime par $\\frac{Q_j(t + \\Delta t) - Q_j(t)}{\\Delta t} = \\beta_j P_j(t)$ ou encore $\\frac{Q_{j, i+1} - Q_{j, i}}{\\Delta t} = \\beta_j P_{j,i}$ i.e :\n",
    "$$\n",
    "Q_{j, i+1} =  Q_{j, i} + \\Delta t \\beta_j P_{j,i}\n",
    "$$"
   ]
  },
  {
   "cell_type": "markdown",
   "id": "636d9337-ad15-4bc1-aabc-f1a28531d7a8",
   "metadata": {},
   "source": [
    "# Question 2 "
   ]
  },
  {
   "cell_type": "markdown",
   "id": "72c8b120-0df1-47b3-b837-f1aa3f12fe74",
   "metadata": {},
   "source": [
    "Le problème énoncé correspond au problème d'optimisation suivant : \n",
    "$\\min\\limits_{x} f(x)$ tel que $c_{eq}(x) = 0$ et $c_{in}(x) \\leq 0$  "
   ]
  },
  {
   "cell_type": "markdown",
   "id": "b30fa8ff-ce33-4bca-b8f6-aab5b5bf6349",
   "metadata": {},
   "source": [
    "f est la fonction qui, à x, associe le coût électrique de charge, qu'on cherche à minimiser ; autrement dit :\n",
    "$$\n",
    "f : x = (Q_{j,i}, P_{j,i})_{0 \\leq i < N ; 1 \\leq j \\leq N_{\\nu}} \\longmapsto {\\Delta t}\\sum_{j=1}^{N_v}\\sum_{i=0}^{N}c_iP_{j,i}.\n",
    "$$"
   ]
  },
  {
   "cell_type": "markdown",
   "id": "47c4319a-8aa7-48cd-9aae-3342a887395a",
   "metadata": {},
   "source": [
    "Les contraintes d'égalité sont les suivantes :\n",
    "\n",
    "$$\n",
    "c_{eq} : x \\mapsto \\begin{pmatrix}\n",
    "Q_{j,i+1} - Q_{j,i} - {\\Delta t}\\beta_jP_{j,i} \\\\\n",
    "Q_{j,\\frac{t_j^{in}}{\\Delta t}} - Q_j^in \\\\\n",
    "Q_{j,\\frac{t_j^f}{\\Delta t}} - \\bar{Q_j}\\\\\n",
    "\\end{pmatrix}\n",
    "$$\n",
    "\n"
   ]
  },
  {
   "cell_type": "markdown",
   "id": "6f9a9172",
   "metadata": {},
   "source": [
    "Les contraintes d'inégalités sont les suivantes :\n",
    "\n",
    "\n",
    "$$\n",
    "c_{in} : x \\mapsto \\begin{pmatrix}\n",
    "\\bar{P} - \\sum^{N_\\nu}_{j=1}P_{j,i} \\\\\n",
    "Q_{j,i} \\\\\n",
    "\\bar{Q_j} - Q_{j,i}\\\\\n",
    "\\end{pmatrix}\n",
    "$$\n",
    "\n"
   ]
  },
  {
   "cell_type": "markdown",
   "id": "3c11a2d3-19e0-4cad-b853-c19c0c70b2e8",
   "metadata": {},
   "source": [
    "# Question 3"
   ]
  },
  {
   "cell_type": "code",
   "execution_count": null,
   "id": "c3b4faae-119e-45db-ad17-dd25a5c938af",
   "metadata": {},
   "outputs": [],
   "source": []
  }
 ],
 "metadata": {
  "kernelspec": {
   "display_name": "Python 3 (ipykernel)",
   "language": "python",
   "name": "python3"
  },
  "language_info": {
   "codemirror_mode": {
    "name": "ipython",
    "version": 3
   },
   "file_extension": ".py",
   "mimetype": "text/x-python",
   "name": "python",
   "nbconvert_exporter": "python",
   "pygments_lexer": "ipython3",
   "version": "3.11.5"
  }
 },
 "nbformat": 4,
 "nbformat_minor": 5
}
