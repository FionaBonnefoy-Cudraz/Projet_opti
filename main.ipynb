{
 "cells": [
  {
   "cell_type": "markdown",
   "id": "33724689-f81c-4b93-8b25-ca6506f057f4",
   "metadata": {},
   "source": [
    "# Question 1"
   ]
  },
  {
   "cell_type": "markdown",
   "id": "8d3e92f1-6236-4e2c-8585-632193cb0032",
   "metadata": {},
   "source": [
    "On raisonne de manière infinitésimale en notant $Q_j(t)$ la charge du véhicule $j$ au temps $t$. Lorsque le véhicule est en charge, la station fournit au véhicule $j$ une puissance $P_j(t)$, et la voiture est capable de capter une certaine fraction $\\beta_j$ de cette puissance ($\\beta_j$ sera proche de 1 pour une batterie neuve, et tendra vers 0 quand la batterie s'use). Ainsi, la dérivée de la charge du véhicule (en terme de dimension, $Q_j$ sera une énergie) vaut $\\frac{dQ_j(t)}{dt} = \\beta_j P_j(t)$.\n",
    "\n",
    "Si partitionne notre intervalle de temps en N intervalles $[t_i, t_{i+1}]$ de durée $\\Delta t$ (qui est donc la plus petite durée considérée), cette équation s'approxime par $\\frac{Q_j(t + \\Delta t) - Q_j(t)}{\\Delta t} = \\beta_j P_j(t)$ ou encore $\\frac{Q_{j, i+1} - Q_{j, i}}{\\Delta t} = \\beta_j P_{j,i}$ i.e :\n",
    "$$\n",
    "Q_{j, i+1} =  Q_{j, i} + \\Delta t \\beta_j P_{j,i}\n",
    "$$"
   ]
  },
  {
   "cell_type": "markdown",
   "id": "636d9337-ad15-4bc1-aabc-f1a28531d7a8",
   "metadata": {},
   "source": [
    "# Question 2 "
   ]
  },
  {
   "cell_type": "markdown",
   "id": "72c8b120-0df1-47b3-b837-f1aa3f12fe74",
   "metadata": {},
   "source": [
    "Le problème énoncé correspond au problème d'optimisation suivant : \n",
    "$\\min\\limits_{x} f(x)$ tel que $c_{eq}(x) = 0$ et $c_{in}(x) \\leq 0$  "
   ]
  },
  {
   "cell_type": "markdown",
   "id": "b30fa8ff-ce33-4bca-b8f6-aab5b5bf6349",
   "metadata": {},
   "source": [
    "f est la fonction qui, à x, associe le coût électrique de charge, qu'on cherche à minimiser ; autrement dit :\n",
    "$$\n",
    "f : x = (Q_{j,i}, P_{j,i})_{0 \\leq i < N ; 1 \\leq j \\leq N_{\\nu}} \\longmapsto {\\Delta t}\\sum_{j=1}^{N_v}\\sum_{i=0}^{N}c_iP_{j,i}.\n",
    "$$"
   ]
  },
  {
   "cell_type": "markdown",
   "id": "47c4319a-8aa7-48cd-9aae-3342a887395a",
   "metadata": {},
   "source": [
    "Les contraintes d'égalité sont les suivantes :\n",
    "\n",
    "$$\n",
    "c_{eq} : x \\mapsto \\begin{pmatrix}\n",
    "Q_{j,i+1} - Q_{j,i} - {\\Delta t}\\beta_jP_{j,i} \\\\\n",
    "Q_{j,\\frac{t_j^{in}}{\\Delta t}} - Q_j^in \\\\\n",
    "Q_{j,\\frac{t_j^f}{\\Delta t}} - \\bar{Q_j}\\\\\n",
    "\\end{pmatrix}\n",
    "$$\n",
    "\n"
   ]
  },
  {
   "cell_type": "markdown",
   "id": "6f9a9172",
   "metadata": {},
   "source": [
    "Les contraintes d'inégalités sont les suivantes :\n",
    "\n",
    "\n",
    "$$\n",
    "c_{in} : x \\mapsto \\begin{pmatrix}\n",
    "\\bar{P} - \\sum^{N_\\nu}_{j=1}P_{j,i} \\\\\n",
    "Q_{j,i} \\\\\n",
    "\\bar{Q_j} - Q_{j,i}\\\\\n",
    "\\end{pmatrix}\n",
    "$$\n",
    "\n"
   ]
  },
  {
   "cell_type": "markdown",
   "id": "3c11a2d3-19e0-4cad-b853-c19c0c70b2e8",
   "metadata": {},
   "source": [
    "# Question 3"
   ]
  },
  {
   "cell_type": "markdown",
   "id": "472d0d05-99dd-4bb2-a336-76f8810d751a",
   "metadata": {},
   "source": [
    "Un problème est convexe à deux conditions :\n",
    "- la fonction à minimiser doit être convexe\n",
    "- l'espace des valeurs vérifiant l'ensemble des contraintes doit être convexe.\n",
    "\n",
    "Dans ce problème, les deux conditions sont vérifiées. En effet, d'une part la fonction f est convexe comme fonction linéaire. D'autre part, les contraintes d'égalité et d'inégalité vérifiées sont affines, donc l'ensemble des valeurs les vérifiant est convexe comme intersection de convexes.\n",
    "\n",
    "On a donc bien un problème convexe."
   ]
  },
  {
   "cell_type": "markdown",
   "id": "b5902a9c-18ff-45fd-b554-ef9824e6dd17",
   "metadata": {},
   "source": [
    "# Question 4"
   ]
  },
  {
   "cell_type": "markdown",
   "id": "35bb5686-7e40-4824-a70c-a6d04103e888",
   "metadata": {},
   "source": [
    "On a $\\frac{dQ}{dt} = \\beta P$ où $P = UI$ et $SOC = \\frac{Q}{\\bar{Q}}$ donc $\\bar{Q}\\frac{dSOC}{dt} = \\beta UI$. Il s'agit de trouver le meilleur $\\beta$ pour avoir $(\\frac{dSOC}{dt})_i \\approx \\beta \\frac{UI_i}{\\bar{Q}}$. Dans la pratique il va falloir résoudre $\\min\\limits_{\\beta} \\sum_{i}|(\\frac{dSOC}{dt})_i - \\beta \\frac{UI_i}{\\bar{Q}}|^2$."
   ]
  },
  {
   "cell_type": "markdown",
   "id": "c660ae44-b03b-4187-8429-ddd19e6f3190",
   "metadata": {},
   "source": [
    "# Question 5"
   ]
  },
  {
   "cell_type": "code",
   "execution_count": 10,
   "id": "fec0ebe5-0423-4777-bd3d-2673dedef358",
   "metadata": {},
   "outputs": [
    {
     "data": {
      "text/html": [
       "<div>\n",
       "<style scoped>\n",
       "    .dataframe tbody tr th:only-of-type {\n",
       "        vertical-align: middle;\n",
       "    }\n",
       "\n",
       "    .dataframe tbody tr th {\n",
       "        vertical-align: top;\n",
       "    }\n",
       "\n",
       "    .dataframe thead th {\n",
       "        text-align: right;\n",
       "    }\n",
       "</style>\n",
       "<table border=\"1\" class=\"dataframe\">\n",
       "  <thead>\n",
       "    <tr style=\"text-align: right;\">\n",
       "      <th></th>\n",
       "      <th>Time [s]</th>\n",
       "      <th>SOC [%]</th>\n",
       "      <th>I [kA]</th>\n",
       "    </tr>\n",
       "  </thead>\n",
       "  <tbody>\n",
       "    <tr>\n",
       "      <th>0</th>\n",
       "      <td>0.000000</td>\n",
       "      <td>0.631635</td>\n",
       "      <td>0.000153</td>\n",
       "    </tr>\n",
       "    <tr>\n",
       "      <th>1</th>\n",
       "      <td>1.005016</td>\n",
       "      <td>0.631646</td>\n",
       "      <td>0.000951</td>\n",
       "    </tr>\n",
       "    <tr>\n",
       "      <th>2</th>\n",
       "      <td>2.008215</td>\n",
       "      <td>0.630583</td>\n",
       "      <td>-0.002994</td>\n",
       "    </tr>\n",
       "    <tr>\n",
       "      <th>3</th>\n",
       "      <td>3.018137</td>\n",
       "      <td>0.630439</td>\n",
       "      <td>0.000654</td>\n",
       "    </tr>\n",
       "    <tr>\n",
       "      <th>4</th>\n",
       "      <td>4.023168</td>\n",
       "      <td>0.632332</td>\n",
       "      <td>0.002940</td>\n",
       "    </tr>\n",
       "    <tr>\n",
       "      <th>...</th>\n",
       "      <td>...</td>\n",
       "      <td>...</td>\n",
       "      <td>...</td>\n",
       "    </tr>\n",
       "    <tr>\n",
       "      <th>294</th>\n",
       "      <td>295.401837</td>\n",
       "      <td>0.262350</td>\n",
       "      <td>-0.482445</td>\n",
       "    </tr>\n",
       "    <tr>\n",
       "      <th>295</th>\n",
       "      <td>296.407886</td>\n",
       "      <td>0.259741</td>\n",
       "      <td>-0.482207</td>\n",
       "    </tr>\n",
       "    <tr>\n",
       "      <th>296</th>\n",
       "      <td>297.413096</td>\n",
       "      <td>0.258567</td>\n",
       "      <td>-0.484523</td>\n",
       "    </tr>\n",
       "    <tr>\n",
       "      <th>297</th>\n",
       "      <td>298.418893</td>\n",
       "      <td>0.258645</td>\n",
       "      <td>-0.480281</td>\n",
       "    </tr>\n",
       "    <tr>\n",
       "      <th>298</th>\n",
       "      <td>299.425892</td>\n",
       "      <td>0.255190</td>\n",
       "      <td>-0.477461</td>\n",
       "    </tr>\n",
       "  </tbody>\n",
       "</table>\n",
       "<p>299 rows × 3 columns</p>\n",
       "</div>"
      ],
      "text/plain": [
       "       Time [s]   SOC [%]    I [kA]\n",
       "0      0.000000  0.631635  0.000153\n",
       "1      1.005016  0.631646  0.000951\n",
       "2      2.008215  0.630583 -0.002994\n",
       "3      3.018137  0.630439  0.000654\n",
       "4      4.023168  0.632332  0.002940\n",
       "..          ...       ...       ...\n",
       "294  295.401837  0.262350 -0.482445\n",
       "295  296.407886  0.259741 -0.482207\n",
       "296  297.413096  0.258567 -0.484523\n",
       "297  298.418893  0.258645 -0.480281\n",
       "298  299.425892  0.255190 -0.477461\n",
       "\n",
       "[299 rows x 3 columns]"
      ]
     },
     "execution_count": 10,
     "metadata": {},
     "output_type": "execute_result"
    }
   ],
   "source": [
    "import pandas as pd\n",
    "import numpy as np\n",
    "import matplotlib.pyplot as plt\n",
    "\n",
    "df = pd.read_csv(\"data_battery.csv\")\n",
    "df"
   ]
  },
  {
   "cell_type": "code",
   "execution_count": 11,
   "id": "acdcc427-f20c-4fb8-8aa2-bf40094ecfa8",
   "metadata": {},
   "outputs": [],
   "source": [
    "Q_bar = 50 * 60 * 60 # 50 Ah\n",
    "U = 230 # 230 V\n",
    "I = df['I [kA]'].to_numpy()\n",
    "\n",
    "temps = df['Time [s]'].to_numpy()\n",
    "soc = df['SOC [%]'].to_numpy()\n",
    "\n",
    "def derivee(temps, valeurs):\n",
    "    # Calculer les différences entre les valeurs adjacentes\n",
    "    delta_temps = np.diff(temps)\n",
    "    delta_valeurs = np.diff(valeurs)\n",
    "    return delta_valeurs / delta_temps\n",
    "\n",
    "dsoc_dt = derivee(temps, soc)"
   ]
  },
  {
   "cell_type": "markdown",
   "id": "9637fa67-c252-429b-87eb-51241065c767",
   "metadata": {},
   "source": [
    "Soit $f : \\beta \\mapsto \\sum_{i}((\\frac{dSOC}{dt})_i - \\beta \\frac{UI_i}{\\bar{Q}})^2$. f est une fonction polynomiale du second degré, convexe (car positive car somme de carrés), donc elle atteint son minimum lorsque sa dérivée s'annule.\n",
    "\n",
    "$f'(\\beta) = \\sum_{i}-2 \\frac{UI_i}{\\bar{Q}}((\\frac{dSOC}{dt})_i - \\beta \\frac{UI_i}{\\bar{Q}})$ donc $f'(\\beta) = 0 \\iff  \\beta = \\frac{\\sum_i \\frac{UI_i}{\\bar{Q}}(\\frac{dSOC}{dt})_i } {\\sum_i (\\frac{UI_i}{\\bar{Q}})^2}$\n",
    "\n",
    "Le minimum est atteint en : \n",
    "$$\n",
    "\\beta^* = \\frac{\\sum_i \\frac{UI_i}{\\bar{Q}}(\\frac{dSOC}{dt})_i } {\\sum_i (\\frac{UI_i}{\\bar{Q}})^2}\n",
    "$$"
   ]
  },
  {
   "cell_type": "code",
   "execution_count": 12,
   "id": "b7f0c202-0849-473f-bc43-649d2f3ff2cf",
   "metadata": {},
   "outputs": [
    {
     "data": {
      "text/plain": [
       "2.9829082296414215"
      ]
     },
     "execution_count": 12,
     "metadata": {},
     "output_type": "execute_result"
    }
   ],
   "source": [
    "# Calcul de beta \n",
    "\n",
    "beta = sum([U*I[i] / Q_bar * dsoc_dt[i] for i in range(0, len(dsoc_dt))]) / sum([(U*I[i] / Q_bar)**2 for i in range(0, len(dsoc_dt))])\n",
    "beta"
   ]
  },
  {
   "cell_type": "code",
   "execution_count": 14,
   "id": "6e53627d-81dd-4802-ae3c-a553fb40b723",
   "metadata": {},
   "outputs": [
    {
     "data": {
      "image/png": "[encoded data removed]",
      "text/plain": [
       "<Figure size 640x480 with 1 Axes>"
      ]
     },
     "metadata": {},
     "output_type": "display_data"
    }
   ],
   "source": [
    "# Tracons l’évolution de l’état de charge de la batterie au cours du temps\n",
    "P = U * I\n",
    "Q = soc * Q_bar\n",
    "plt.plot(temps, Q)\n",
    "plt.show()"
   ]
  },
  {
   "cell_type": "markdown",
   "id": "f144f7de-1254-4a54-b49a-32b1cd31a9ce",
   "metadata": {},
   "source": [
    "# Question 6"
   ]
  },
  {
   "cell_type": "markdown",
   "id": "77ea3bed-567b-4410-9ea3-614c1a227ecf",
   "metadata": {},
   "source": [
    "Pour résoudre ce problème, on peut utiliser des algorithmes type Uzawa."
   ]
  },
  {
   "cell_type": "markdown",
   "id": "abb32f3f-7b9a-4d82-a356-24abaf40d978",
   "metadata": {},
   "source": [
    "## L'algorithme "
   ]
  },
  {
   "cell_type": "code",
   "execution_count": 33,
   "id": "2f6f8d2f-001a-45e1-8534-4f25261af911",
   "metadata": {},
   "outputs": [
    {
     "ename": "RuntimeError",
     "evalue": ".../casadi/core/sparsity.cpp:431: Assertion \"x.size2()==y.size1()\" failed:\nMatrix product with incompatible dimensions. Lhs is 96x2 and rhs is 96x1.",
     "output_type": "error",
     "traceback": [
      "\u001b[1;31m---------------------------------------------------------------------------\u001b[0m",
      "\u001b[1;31mRuntimeError\u001b[0m                              Traceback (most recent call last)",
      "\u001b[1;32m~\\AppData\\Local\\Temp\\ipykernel_6816\\3709201188.py\u001b[0m in \u001b[0;36m?\u001b[1;34m()\u001b[0m\n\u001b[0;32m     39\u001b[0m \u001b[0mQ\u001b[0m \u001b[1;33m=\u001b[0m \u001b[0mx\u001b[0m\u001b[1;33m[\u001b[0m\u001b[1;33m:\u001b[0m\u001b[0mN\u001b[0m\u001b[1;33m*\u001b[0m\u001b[0mNv\u001b[0m\u001b[1;33m]\u001b[0m\u001b[1;33m\u001b[0m\u001b[1;33m\u001b[0m\u001b[0m\n\u001b[0;32m     40\u001b[0m \u001b[0mP\u001b[0m \u001b[1;33m=\u001b[0m \u001b[0mca\u001b[0m\u001b[1;33m.\u001b[0m\u001b[0mreshape\u001b[0m\u001b[1;33m(\u001b[0m\u001b[0mx\u001b[0m\u001b[1;33m[\u001b[0m\u001b[0mN\u001b[0m\u001b[1;33m*\u001b[0m\u001b[0mNv\u001b[0m\u001b[1;33m:\u001b[0m\u001b[1;33m]\u001b[0m\u001b[1;33m,\u001b[0m \u001b[0mNv\u001b[0m\u001b[1;33m,\u001b[0m \u001b[0mN\u001b[0m\u001b[1;33m)\u001b[0m\u001b[1;33m.\u001b[0m\u001b[0mT\u001b[0m\u001b[1;33m\u001b[0m\u001b[1;33m\u001b[0m\u001b[0m\n\u001b[0;32m     41\u001b[0m \u001b[1;33m\u001b[0m\u001b[0m\n\u001b[0;32m     42\u001b[0m \u001b[1;31m# Calcul de la fonction objective\u001b[0m\u001b[1;33m\u001b[0m\u001b[1;33m\u001b[0m\u001b[0m\n\u001b[1;32m---> 43\u001b[1;33m \u001b[0mobj\u001b[0m \u001b[1;33m=\u001b[0m \u001b[0mDt\u001b[0m \u001b[1;33m*\u001b[0m \u001b[0mca\u001b[0m\u001b[1;33m.\u001b[0m\u001b[0msum1\u001b[0m\u001b[1;33m(\u001b[0m\u001b[0mca\u001b[0m\u001b[1;33m.\u001b[0m\u001b[0mmtimes\u001b[0m\u001b[1;33m(\u001b[0m\u001b[0mca\u001b[0m\u001b[1;33m.\u001b[0m\u001b[0mreshape\u001b[0m\u001b[1;33m(\u001b[0m\u001b[0mP\u001b[0m\u001b[1;33m,\u001b[0m \u001b[0mN\u001b[0m\u001b[1;33m,\u001b[0m \u001b[0mNv\u001b[0m\u001b[1;33m)\u001b[0m\u001b[1;33m,\u001b[0m \u001b[0mca\u001b[0m\u001b[1;33m.\u001b[0m\u001b[0mreshape\u001b[0m\u001b[1;33m(\u001b[0m\u001b[0mca\u001b[0m\u001b[1;33m.\u001b[0m\u001b[0mvertcat\u001b[0m\u001b[1;33m(\u001b[0m\u001b[0mc\u001b[0m\u001b[1;33m)\u001b[0m\u001b[1;33m,\u001b[0m \u001b[0mN\u001b[0m\u001b[1;33m,\u001b[0m \u001b[1;36m1\u001b[0m\u001b[1;33m)\u001b[0m\u001b[1;33m)\u001b[0m\u001b[1;33m)\u001b[0m\u001b[1;33m\u001b[0m\u001b[1;33m\u001b[0m\u001b[0m\n\u001b[0m\u001b[0;32m     44\u001b[0m \u001b[1;33m\u001b[0m\u001b[0m\n\u001b[0;32m     45\u001b[0m \u001b[1;31m# Contraintes d'égalité\u001b[0m\u001b[1;33m\u001b[0m\u001b[1;33m\u001b[0m\u001b[0m\n\u001b[0;32m     46\u001b[0m \u001b[0mceq\u001b[0m \u001b[1;33m=\u001b[0m \u001b[1;33m[\u001b[0m\u001b[1;33m]\u001b[0m\u001b[1;33m\u001b[0m\u001b[1;33m\u001b[0m\u001b[0m\n",
      "\u001b[1;32mC:\\miniconda\\Lib\\site-packages\\casadi\\casadi.py\u001b[0m in \u001b[0;36m?\u001b[1;34m(*args)\u001b[0m\n\u001b[0;32m  34190\u001b[0m \u001b[1;33m\u001b[0m\u001b[0m\n\u001b[0;32m  34191\u001b[0m \u001b[1;33m\u001b[0m\u001b[0m\n\u001b[0;32m  34192\u001b[0m \u001b[1;33m\u001b[0m\u001b[0m\n\u001b[0;32m  34193\u001b[0m     \"\"\"\n\u001b[1;32m> 34194\u001b[1;33m     \u001b[1;32mreturn\u001b[0m \u001b[0m_casadi\u001b[0m\u001b[1;33m.\u001b[0m\u001b[0mmtimes\u001b[0m\u001b[1;33m(\u001b[0m\u001b[1;33m*\u001b[0m\u001b[0margs\u001b[0m\u001b[1;33m)\u001b[0m\u001b[1;33m\u001b[0m\u001b[1;33m\u001b[0m\u001b[0m\n\u001b[0m",
      "\u001b[1;31mRuntimeError\u001b[0m: .../casadi/core/sparsity.cpp:431: Assertion \"x.size2()==y.size1()\" failed:\nMatrix product with incompatible dimensions. Lhs is 96x2 and rhs is 96x1."
     ]
    }
   ],
   "source": [
    "import casadi as ca\n",
    "\n",
    "# Temps\n",
    "t0 = 17 # h\n",
    "Dt = 0.25 # h\n",
    "N = int(24 / Dt)\n",
    "temps = [t0 + Dt*i for i in range(0, N)] # vecteur temps\n",
    "Nv = 2 # nombre de voitures\n",
    "\n",
    "# Caracteristiques physiques\n",
    "ccr = 1\n",
    "cpl = 3/2\n",
    "Q_bar = 50 # Ah\n",
    "P_bar = 2.5 * 1000 # W\n",
    "beta = 2.9829082296414215\n",
    "\n",
    "# creation du vecteur tarif c\n",
    "c = []\n",
    "for t in temps :\n",
    "    if (t >= 24 and t < 30) or (t >= 36 and t < 38) : # heures creuses : 6h a minuit ou midi a 14h\n",
    "        c.append(ccr)\n",
    "    else :\n",
    "        c.append(cpl)\n",
    "c = ca.reshape(ca.vertcat(c), 1, N)\n",
    "\n",
    "# Temps d'arrivee et de depart\n",
    "t1_in = 18 # h\n",
    "t1_f = 32 # h (8h le lendemain)\n",
    "t2_in = 18.5 # h\n",
    "t2_f = 33.5 # h (9h le lendemain) \n",
    "\n",
    "# Charges a l'arrivee\n",
    "Q1_in = 0.3 * Q_bar # 30 %\n",
    "Q2_in = 0.5 * Q_bar # 50 %\n",
    "\n",
    "# Définition des variables de décision\n",
    "x = ca.MX.sym('x', 2*N*Nv)\n",
    "\n",
    "# Séparation des variables Q et P\n",
    "Q = x[:N*Nv]\n",
    "P = ca.reshape(x[N*Nv:], Nv, N).T\n",
    "\n",
    "# Calcul de la fonction objective\n",
    "obj = Dt * ca.sum1(ca.mtimes(ca.reshape(P, N, Nv), ca.reshape(ca.vertcat(c), N, 1)))\n",
    "\n",
    "# Contraintes d'égalité\n",
    "ceq = []\n",
    "for j in range(Nv):\n",
    "    for i in range(N-1):\n",
    "        ceq.append(Q[(i+1)*Nv+j] - Q[i*Nv+j] - Dt * beta[j] * P[i*Nv+j]) # Equation 1\n",
    "    ceq.append(Q[int(t1_in/Dt)*Nv+j] - Q1_in) # Equation 2\n",
    "    ceq.append(Q[int(t1_f/Dt)*Nv+j] - Q_bar) # Equation 3\n",
    "# Empilement des contraintes d'égalité en une seule matrice\n",
    "ceq = ca.vertcat(*ceq)\n",
    "\n",
    "# Contraintes d'inégalité\n",
    "cin = []\n",
    "for i in range(N):\n",
    "    cin.append(P_bar - ca.sum1(P[i*Nv:(i+1)*Nv])) # Equation 1\n",
    "    for j in range(Nv):\n",
    "        cin.append(Q[j*N+i] - 0) # Equation 2\n",
    "        cin.append(Q_bar - Q[j*N+i]) # Equation 3\n",
    "cin = ca.vertcat(*cin)\n",
    "\n",
    "# Création de la fonction objectif et des contraintes\n",
    "nlp = {'x': x, 'f': obj, 'g': ca.vertcat(ceq, cin)}\n",
    "\n",
    "# Options pour le solveur IPOPT\n",
    "opts = {'ipopt.print_level': 0, 'print_time': 0, 'ipopt.tol': 1e-6}\n",
    "\n",
    "# Création de l'objet solveur\n",
    "solver = ca.nlpsol('solver', 'ipopt', nlp, opts)\n",
    "\n",
    "# Résolution du problème d'optimisation\n",
    "x0 = [0.1]*(2*N*Nv)  # Exemple de valeurs initiales pour les variables de décision\n",
    "sol = solver(x0=x0)"
   ]
  },
  {
   "cell_type": "code",
   "execution_count": 34,
   "id": "4576b96c-8c75-46e5-b83e-41053c530126",
   "metadata": {},
   "outputs": [
    {
     "name": "stdout",
     "output_type": "stream",
     "text": [
      "Dimensions de P : (96, 2)\n",
      "Dimensions de c : (1, 96)\n"
     ]
    }
   ],
   "source": [
    "print(\"Dimensions de P :\", P.size())\n",
    "print(\"Dimensions de c :\", c.size())\n"
   ]
  },
  {
   "cell_type": "code",
   "execution_count": null,
   "id": "082a545b-39fd-4994-8b11-0fe2552a2e66",
   "metadata": {},
   "outputs": [],
   "source": []
  }
 ],
 "metadata": {
  "kernelspec": {
   "display_name": "Python 3 (ipykernel)",
   "language": "python",
   "name": "python3"
  },
  "language_info": {
   "codemirror_mode": {
    "name": "ipython",
    "version": 3
   },
   "file_extension": ".py",
   "mimetype": "text/x-python",
   "name": "python",
   "nbconvert_exporter": "python",
   "pygments_lexer": "ipython3",
   "version": "3.11.5"
  }
 },
 "nbformat": 4,
 "nbformat_minor": 5
}
